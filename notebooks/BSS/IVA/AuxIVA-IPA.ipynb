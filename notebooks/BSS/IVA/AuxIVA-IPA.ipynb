{
  "nbformat": 4,
  "nbformat_minor": 0,
  "metadata": {
    "colab": {
      "provenance": [],
      "include_colab_link": true
    },
    "kernelspec": {
      "name": "python3",
      "display_name": "Python 3"
    },
    "language_info": {
      "name": "python"
    }
  },
  "cells": [
    {
      "cell_type": "markdown",
      "metadata": {
        "id": "view-in-github",
        "colab_type": "text"
      },
      "source": [
        "<a href=\"https://colab.research.google.com/github/Fomalhautwx/Beamformers-Implementation/blob/main/notebooks/BSS/IVA/AuxIVA-IPA.ipynb\" target=\"_parent\"><img src=\"https://colab.research.google.com/assets/colab-badge.svg\" alt=\"Open In Colab\"/></a>"
      ]
    },
    {
      "cell_type": "code",
      "execution_count": 1,
      "metadata": {
        "id": "iLMRz5h_I_U_",
        "outputId": "d9f2dea1-b7a0-41b7-c7c2-f1d168bff6ef",
        "colab": {
          "base_uri": "https://localhost:8080/"
        }
      },
      "outputs": [
        {
          "output_type": "stream",
          "name": "stdout",
          "text": [
            "Collecting ssspy\n",
            "  Downloading ssspy-0.2.0-py3-none-any.whl.metadata (41 kB)\n",
            "\u001b[?25l     \u001b[90m━━━━━━━━━━━━━━━━━━━━━━━━━━━━━━━━━━━━━━━━\u001b[0m \u001b[32m0.0/41.0 kB\u001b[0m \u001b[31m?\u001b[0m eta \u001b[36m-:--:--\u001b[0m\r\u001b[2K     \u001b[90m━━━━━━━━━━━━━━━━━━━━━━━━━━━━━━━━━━━━━━━━\u001b[0m \u001b[32m41.0/41.0 kB\u001b[0m \u001b[31m1.5 MB/s\u001b[0m eta \u001b[36m0:00:00\u001b[0m\n",
            "\u001b[?25hRequirement already satisfied: numpy in /usr/local/lib/python3.12/dist-packages (from ssspy) (2.0.2)\n",
            "Downloading ssspy-0.2.0-py3-none-any.whl (124 kB)\n",
            "\u001b[2K   \u001b[90m━━━━━━━━━━━━━━━━━━━━━━━━━━━━━━━━━━━━━━━━\u001b[0m \u001b[32m124.4/124.4 kB\u001b[0m \u001b[31m4.3 MB/s\u001b[0m eta \u001b[36m0:00:00\u001b[0m\n",
            "\u001b[?25hInstalling collected packages: ssspy\n",
            "Successfully installed ssspy-0.2.0\n"
          ]
        }
      ],
      "source": [
        "!pip install ssspy"
      ]
    },
    {
      "cell_type": "code",
      "source": [
        "import numpy as np\n",
        "import scipy.signal as ss\n",
        "import matplotlib.pyplot as plt\n",
        "import IPython.display as ipd\n",
        "from scipy.io import wavfile"
      ],
      "metadata": {
        "id": "k4vmcNb5em_x"
      },
      "execution_count": 6,
      "outputs": []
    },
    {
      "cell_type": "code",
      "source": [],
      "metadata": {
        "id": "rOvxrG-sfp02"
      },
      "execution_count": null,
      "outputs": []
    },
    {
      "cell_type": "code",
      "source": [
        "from google.colab import drive\n",
        "drive.mount('/content/drive')"
      ],
      "metadata": {
        "id": "GxB14fQX1LzX",
        "outputId": "46008eb3-fbc6-406c-df52-27514c4417a6",
        "colab": {
          "base_uri": "https://localhost:8080/"
        }
      },
      "execution_count": 3,
      "outputs": [
        {
          "output_type": "stream",
          "name": "stdout",
          "text": [
            "Mounted at /content/drive\n"
          ]
        }
      ]
    },
    {
      "cell_type": "code",
      "source": [
        "n_sources = 2\n",
        "max_duration = 10\n",
        "\n",
        "n_fft, hop_length = 4096, 2048"
      ],
      "metadata": {
        "id": "faUwi6X9esWR"
      },
      "execution_count": 4,
      "outputs": []
    },
    {
      "cell_type": "code",
      "source": [
        "sr, waveform_mix = wavfile.read(\"/content/drive/MyDrive/Original.wav\") # (n_channels, n_sources, n_samples)\n"
      ],
      "metadata": {
        "id": "7jwyi2wReuRR"
      },
      "execution_count": 15,
      "outputs": []
    },
    {
      "cell_type": "code",
      "source": [
        "for idx, waveform in enumerate(waveform_mix):\n",
        "    print(\"Mixture: {}\".format(idx + 1))\n",
        "    display(ipd.Audio(waveform, rate=sample_rate))\n",
        "    print()"
      ],
      "metadata": {
        "id": "Pa28gsTce8yt"
      },
      "execution_count": null,
      "outputs": []
    },
    {
      "cell_type": "code",
      "source": [
        "from ssspy.bss.iva import AuxIVA"
      ],
      "metadata": {
        "id": "tixTvLybe-w7"
      },
      "execution_count": 10,
      "outputs": []
    },
    {
      "cell_type": "code",
      "source": [
        "def contrast_fn(y):\n",
        "    return 2 * np.linalg.norm(y, axis=1)\n",
        "\n",
        "def d_contrast_fn(y):\n",
        "    return 2 * np.ones_like(y)"
      ],
      "metadata": {
        "id": "6AvhtkrdfAeZ"
      },
      "execution_count": 11,
      "outputs": []
    },
    {
      "cell_type": "code",
      "source": [
        "iva = AuxIVA(\n",
        "    spatial_algorithm=\"IPA\",\n",
        "    contrast_fn=contrast_fn,\n",
        "    d_contrast_fn=d_contrast_fn,\n",
        "    newton_iter=10,\n",
        ")\n",
        "print(iva)"
      ],
      "metadata": {
        "id": "h5GghnnMfP1F",
        "outputId": "8e696126-b16b-49e9-ef6d-de5002d42fa2",
        "colab": {
          "base_uri": "https://localhost:8080/"
        }
      },
      "execution_count": 16,
      "outputs": [
        {
          "output_type": "stream",
          "name": "stdout",
          "text": [
            "AuxIVA(spatial_algorithm=IPA, scale_restoration=True, record_loss=True, reference_id=0)\n"
          ]
        }
      ]
    },
    {
      "cell_type": "code",
      "source": [
        "print(waveform_mix.shape)\n",
        "_, _, spectrogram_mix = ss.stft(waveform_mix.T, window=\"hann\", nperseg=n_fft, noverlap=n_fft-hop_length)"
      ],
      "metadata": {
        "id": "EecGuY-JfSBB",
        "outputId": "11214152-40c8-4bc4-b85f-ec2b2e7ed513",
        "colab": {
          "base_uri": "https://localhost:8080/"
        }
      },
      "execution_count": 18,
      "outputs": [
        {
          "output_type": "stream",
          "name": "stdout",
          "text": [
            "(64000, 2)\n"
          ]
        }
      ]
    },
    {
      "cell_type": "code",
      "source": [
        "spectrogram_est = iva(spectrogram_mix, n_iter=50)"
      ],
      "metadata": {
        "id": "O3D2eA8HfVs2"
      },
      "execution_count": 19,
      "outputs": []
    },
    {
      "cell_type": "code",
      "source": [
        "_, waveform_est = ss.istft(spectrogram_est, window=\"hann\", nperseg=n_fft, noverlap=n_fft-hop_length)"
      ],
      "metadata": {
        "id": "jdCqrAdPfXkk"
      },
      "execution_count": 20,
      "outputs": []
    },
    {
      "cell_type": "code",
      "source": [
        "for idx, waveform in enumerate(waveform_est):\n",
        "    print(\"Estimated source: {}\".format(idx + 1))\n",
        "    display(ipd.Audio(waveform, rate=sample_rate))\n",
        "    print()"
      ],
      "metadata": {
        "id": "xXTnlid-fZb3"
      },
      "execution_count": null,
      "outputs": []
    },
    {
      "cell_type": "code",
      "source": [
        "plt.figure()\n",
        "plt.plot(iva.loss)\n",
        "plt.show()\n",
        "plt.close()"
      ],
      "metadata": {
        "id": "OHjwNcZIfe0K"
      },
      "execution_count": null,
      "outputs": []
    },
    {
      "cell_type": "code",
      "source": [
        "wavfile.write(\"/content/drive/MyDrive/Transfer/estimated.wav\", sr, waveform_est.T)"
      ],
      "metadata": {
        "id": "OoJoi32YK5PQ"
      },
      "execution_count": 22,
      "outputs": []
    }
  ]
}